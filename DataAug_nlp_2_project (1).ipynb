{
  "nbformat": 4,
  "nbformat_minor": 0,
  "metadata": {
    "colab": {
      "provenance": []
    },
    "kernelspec": {
      "name": "python3",
      "display_name": "Python 3"
    },
    "language_info": {
      "name": "python"
    },
    "accelerator": "GPU",
    "gpuClass": "standard"
  },
  "cells": [
    {
      "cell_type": "code",
      "source": [
        "import numpy as np\n",
        "import pandas as pd\n",
        "\n",
        "# preprocessing \n",
        "import nltk\n",
        "from nltk.tokenize import word_tokenize\n",
        "nltk.download('stopwords')\n",
        "nltk.download('wordnet')\n",
        "nltk.download('omw-1.4')\n",
        "import re\n",
        "import string\n",
        "import gensim  \n",
        "from sklearn.feature_extraction.text import CountVectorizer, TfidfVectorizer # bags of words and TF IDF\n",
        "\n",
        "#split dataset\n",
        "from sklearn.model_selection import train_test_split\n",
        "from sklearn.model_selection import StratifiedKFold # For stratified splitting (helpful in imbalanced data)\n",
        "from sklearn.preprocessing import MultiLabelBinarizer \n",
        "\n",
        "# analyze result\n",
        "from sklearn import metrics\n",
        "from sklearn.metrics import precision_score, recall_score, f1_score, classification_report, confusion_matrix , make_scorer\n",
        "# cnn\n",
        "from keras.layers.regularization.dropout import Dropout\n",
        "import keras\n",
        "from keras.models import Sequential\n",
        "from keras.layers import Dense\n",
        "from keras.layers import LSTM\n",
        "from keras.layers import BatchNormalization\n",
        "from keras.layers import MaxPooling2D\n",
        "\n",
        "# Random forest\n",
        "from sklearn.ensemble import RandomForestClassifier\n",
        "from sklearn.naive_bayes import GaussianNB\n",
        "from sklearn.linear_model import LogisticRegression\n",
        "\n",
        "\n",
        "import warnings\n",
        "warnings.filterwarnings(\"ignore\")"
      ],
      "metadata": {
        "colab": {
          "base_uri": "https://localhost:8080/"
        },
        "id": "k4-Yz3HU90Wz",
        "outputId": "0e276849-8b24-4e72-9f6c-f8aff57c9d6c"
      },
      "execution_count": 1,
      "outputs": [
        {
          "output_type": "stream",
          "name": "stderr",
          "text": [
            "[nltk_data] Downloading package stopwords to /root/nltk_data...\n",
            "[nltk_data]   Unzipping corpora/stopwords.zip.\n",
            "[nltk_data] Downloading package wordnet to /root/nltk_data...\n",
            "[nltk_data] Downloading package omw-1.4 to /root/nltk_data...\n"
          ]
        }
      ]
    },
    {
      "cell_type": "code",
      "execution_count": 2,
      "metadata": {
        "colab": {
          "base_uri": "https://localhost:8080/",
          "height": 206
        },
        "id": "l_eTAkwv9vOi",
        "outputId": "a165eaf9-f5aa-46f9-98b8-2bcff07258d0"
      },
      "outputs": [
        {
          "output_type": "execute_result",
          "data": {
            "text/plain": [
              "   Unnamed: 0                                           Sentence  Sentiment\n",
              "0           0  The GeoSolutions technology will leverage Bene...          0\n",
              "1           1  For the last quarter of 2010 , Componenta 's n...          0\n",
              "2           2  According to the Finnish-Russian Chamber of Co...          0\n",
              "3           3  The Swedish buyout firm has sold its remaining...          0\n",
              "4           4    $SPY wouldn't be surprised to see a green close          0"
            ],
            "text/html": [
              "\n",
              "  <div id=\"df-bd9be47d-47ee-423e-aa77-7011bd50e40d\">\n",
              "    <div class=\"colab-df-container\">\n",
              "      <div>\n",
              "<style scoped>\n",
              "    .dataframe tbody tr th:only-of-type {\n",
              "        vertical-align: middle;\n",
              "    }\n",
              "\n",
              "    .dataframe tbody tr th {\n",
              "        vertical-align: top;\n",
              "    }\n",
              "\n",
              "    .dataframe thead th {\n",
              "        text-align: right;\n",
              "    }\n",
              "</style>\n",
              "<table border=\"1\" class=\"dataframe\">\n",
              "  <thead>\n",
              "    <tr style=\"text-align: right;\">\n",
              "      <th></th>\n",
              "      <th>Unnamed: 0</th>\n",
              "      <th>Sentence</th>\n",
              "      <th>Sentiment</th>\n",
              "    </tr>\n",
              "  </thead>\n",
              "  <tbody>\n",
              "    <tr>\n",
              "      <th>0</th>\n",
              "      <td>0</td>\n",
              "      <td>The GeoSolutions technology will leverage Bene...</td>\n",
              "      <td>0</td>\n",
              "    </tr>\n",
              "    <tr>\n",
              "      <th>1</th>\n",
              "      <td>1</td>\n",
              "      <td>For the last quarter of 2010 , Componenta 's n...</td>\n",
              "      <td>0</td>\n",
              "    </tr>\n",
              "    <tr>\n",
              "      <th>2</th>\n",
              "      <td>2</td>\n",
              "      <td>According to the Finnish-Russian Chamber of Co...</td>\n",
              "      <td>0</td>\n",
              "    </tr>\n",
              "    <tr>\n",
              "      <th>3</th>\n",
              "      <td>3</td>\n",
              "      <td>The Swedish buyout firm has sold its remaining...</td>\n",
              "      <td>0</td>\n",
              "    </tr>\n",
              "    <tr>\n",
              "      <th>4</th>\n",
              "      <td>4</td>\n",
              "      <td>$SPY wouldn't be surprised to see a green close</td>\n",
              "      <td>0</td>\n",
              "    </tr>\n",
              "  </tbody>\n",
              "</table>\n",
              "</div>\n",
              "      <button class=\"colab-df-convert\" onclick=\"convertToInteractive('df-bd9be47d-47ee-423e-aa77-7011bd50e40d')\"\n",
              "              title=\"Convert this dataframe to an interactive table.\"\n",
              "              style=\"display:none;\">\n",
              "        \n",
              "  <svg xmlns=\"http://www.w3.org/2000/svg\" height=\"24px\"viewBox=\"0 0 24 24\"\n",
              "       width=\"24px\">\n",
              "    <path d=\"M0 0h24v24H0V0z\" fill=\"none\"/>\n",
              "    <path d=\"M18.56 5.44l.94 2.06.94-2.06 2.06-.94-2.06-.94-.94-2.06-.94 2.06-2.06.94zm-11 1L8.5 8.5l.94-2.06 2.06-.94-2.06-.94L8.5 2.5l-.94 2.06-2.06.94zm10 10l.94 2.06.94-2.06 2.06-.94-2.06-.94-.94-2.06-.94 2.06-2.06.94z\"/><path d=\"M17.41 7.96l-1.37-1.37c-.4-.4-.92-.59-1.43-.59-.52 0-1.04.2-1.43.59L10.3 9.45l-7.72 7.72c-.78.78-.78 2.05 0 2.83L4 21.41c.39.39.9.59 1.41.59.51 0 1.02-.2 1.41-.59l7.78-7.78 2.81-2.81c.8-.78.8-2.07 0-2.86zM5.41 20L4 18.59l7.72-7.72 1.47 1.35L5.41 20z\"/>\n",
              "  </svg>\n",
              "      </button>\n",
              "      \n",
              "  <style>\n",
              "    .colab-df-container {\n",
              "      display:flex;\n",
              "      flex-wrap:wrap;\n",
              "      gap: 12px;\n",
              "    }\n",
              "\n",
              "    .colab-df-convert {\n",
              "      background-color: #E8F0FE;\n",
              "      border: none;\n",
              "      border-radius: 50%;\n",
              "      cursor: pointer;\n",
              "      display: none;\n",
              "      fill: #1967D2;\n",
              "      height: 32px;\n",
              "      padding: 0 0 0 0;\n",
              "      width: 32px;\n",
              "    }\n",
              "\n",
              "    .colab-df-convert:hover {\n",
              "      background-color: #E2EBFA;\n",
              "      box-shadow: 0px 1px 2px rgba(60, 64, 67, 0.3), 0px 1px 3px 1px rgba(60, 64, 67, 0.15);\n",
              "      fill: #174EA6;\n",
              "    }\n",
              "\n",
              "    [theme=dark] .colab-df-convert {\n",
              "      background-color: #3B4455;\n",
              "      fill: #D2E3FC;\n",
              "    }\n",
              "\n",
              "    [theme=dark] .colab-df-convert:hover {\n",
              "      background-color: #434B5C;\n",
              "      box-shadow: 0px 1px 3px 1px rgba(0, 0, 0, 0.15);\n",
              "      filter: drop-shadow(0px 1px 2px rgba(0, 0, 0, 0.3));\n",
              "      fill: #FFFFFF;\n",
              "    }\n",
              "  </style>\n",
              "\n",
              "      <script>\n",
              "        const buttonEl =\n",
              "          document.querySelector('#df-bd9be47d-47ee-423e-aa77-7011bd50e40d button.colab-df-convert');\n",
              "        buttonEl.style.display =\n",
              "          google.colab.kernel.accessAllowed ? 'block' : 'none';\n",
              "\n",
              "        async function convertToInteractive(key) {\n",
              "          const element = document.querySelector('#df-bd9be47d-47ee-423e-aa77-7011bd50e40d');\n",
              "          const dataTable =\n",
              "            await google.colab.kernel.invokeFunction('convertToInteractive',\n",
              "                                                     [key], {});\n",
              "          if (!dataTable) return;\n",
              "\n",
              "          const docLinkHtml = 'Like what you see? Visit the ' +\n",
              "            '<a target=\"_blank\" href=https://colab.research.google.com/notebooks/data_table.ipynb>data table notebook</a>'\n",
              "            + ' to learn more about interactive tables.';\n",
              "          element.innerHTML = '';\n",
              "          dataTable['output_type'] = 'display_data';\n",
              "          await google.colab.output.renderOutput(dataTable, element);\n",
              "          const docLink = document.createElement('div');\n",
              "          docLink.innerHTML = docLinkHtml;\n",
              "          element.appendChild(docLink);\n",
              "        }\n",
              "      </script>\n",
              "    </div>\n",
              "  </div>\n",
              "  "
            ]
          },
          "metadata": {},
          "execution_count": 2
        }
      ],
      "source": [
        "\n",
        "# Exploratory analysis of data\n",
        "data=pd.read_csv(\"/content/file_dataAug.csv\",encoding='unicode_escape')\n",
        "data.head()"
      ]
    },
    {
      "cell_type": "code",
      "source": [
        "data.info()"
      ],
      "metadata": {
        "colab": {
          "base_uri": "https://localhost:8080/"
        },
        "id": "a2vkjOlH-aNn",
        "outputId": "4278cfca-2879-4b1e-b651-6073f69855a3"
      },
      "execution_count": 3,
      "outputs": [
        {
          "output_type": "stream",
          "name": "stdout",
          "text": [
            "<class 'pandas.core.frame.DataFrame'>\n",
            "RangeIndex: 10136 entries, 0 to 10135\n",
            "Data columns (total 3 columns):\n",
            " #   Column      Non-Null Count  Dtype \n",
            "---  ------      --------------  ----- \n",
            " 0   Unnamed: 0  10136 non-null  int64 \n",
            " 1   Sentence    10136 non-null  object\n",
            " 2   Sentiment   10136 non-null  int64 \n",
            "dtypes: int64(2), object(1)\n",
            "memory usage: 237.7+ KB\n"
          ]
        }
      ]
    },
    {
      "cell_type": "code",
      "source": [
        "data.drop(columns=['Unnamed: 0'],inplace=True)\n",
        "data.info()"
      ],
      "metadata": {
        "colab": {
          "base_uri": "https://localhost:8080/"
        },
        "id": "yO_6mhHE-Atv",
        "outputId": "7361762d-3227-4c9f-c6cc-e88123174bc3"
      },
      "execution_count": 4,
      "outputs": [
        {
          "output_type": "stream",
          "name": "stdout",
          "text": [
            "<class 'pandas.core.frame.DataFrame'>\n",
            "RangeIndex: 10136 entries, 0 to 10135\n",
            "Data columns (total 2 columns):\n",
            " #   Column     Non-Null Count  Dtype \n",
            "---  ------     --------------  ----- \n",
            " 0   Sentence   10136 non-null  object\n",
            " 1   Sentiment  10136 non-null  int64 \n",
            "dtypes: int64(1), object(1)\n",
            "memory usage: 158.5+ KB\n"
          ]
        }
      ]
    },
    {
      "cell_type": "code",
      "source": [
        "\n",
        "data=data.drop_duplicates()\n",
        "data.info()"
      ],
      "metadata": {
        "colab": {
          "base_uri": "https://localhost:8080/"
        },
        "id": "Bt4zUK4o-YVo",
        "outputId": "bc395a20-70e5-424a-fb57-d6a6d0ee7f80"
      },
      "execution_count": 5,
      "outputs": [
        {
          "output_type": "stream",
          "name": "stdout",
          "text": [
            "<class 'pandas.core.frame.DataFrame'>\n",
            "Int64Index: 10074 entries, 0 to 10135\n",
            "Data columns (total 2 columns):\n",
            " #   Column     Non-Null Count  Dtype \n",
            "---  ------     --------------  ----- \n",
            " 0   Sentence   10074 non-null  object\n",
            " 1   Sentiment  10074 non-null  int64 \n",
            "dtypes: int64(1), object(1)\n",
            "memory usage: 236.1+ KB\n"
          ]
        }
      ]
    },
    {
      "cell_type": "code",
      "source": [
        "data.Sentiment.value_counts().plot.bar()"
      ],
      "metadata": {
        "colab": {
          "base_uri": "https://localhost:8080/",
          "height": 279
        },
        "id": "T3CFAWV3-k83",
        "outputId": "86b304a5-51ee-40f7-8f33-a6861ffebfb6"
      },
      "execution_count": 6,
      "outputs": [
        {
          "output_type": "execute_result",
          "data": {
            "text/plain": [
              "<matplotlib.axes._subplots.AxesSubplot at 0x7f76a1becc70>"
            ]
          },
          "metadata": {},
          "execution_count": 6
        },
        {
          "output_type": "display_data",
          "data": {
            "text/plain": [
              "<Figure size 432x288 with 1 Axes>"
            ],
            "image/png": "[encoded data removed]"
          },
          "metadata": {
            "needs_background": "light"
          }
        }
      ]
    },
    {
      "cell_type": "code",
      "source": [
        "# Data preprocessing\n",
        "\n",
        "# with removal of stopwords\n",
        "\n",
        "stopwords = nltk.corpus.stopwords.words('english')\n",
        "wn = nltk.WordNetLemmatizer()\n",
        "\n",
        "def clean_text(text):\n",
        "    text = \"\".join([word for word in text if word not in string.punctuation])\n",
        "    text_tokenize = re.split('\\W+', text)\n",
        "    text_nostop = [word for word in text_tokenize if word not in stopwords]\n",
        "    #text_stemm = [ps.stem(x) for x in text_nostop]\n",
        "    text_lemm = [wn.lemmatize(x) for x in text_nostop]\n",
        "    return text_lemm\n",
        "\n",
        "def clean_text_nostop(text):\n",
        "    text = \"\".join([word for word in text if word not in string.punctuation])\n",
        "    text_tokenize = re.split('\\W+', text)\n",
        "    text_lemm = [wn.lemmatize(x) for x in text_tokenize]\n",
        "    return text_lemm    \n",
        "\n",
        "data['text_clean'] = data['Sentence'].apply(lambda x: clean_text(x.lower()))\n",
        "data['text_clean_nostop'] = data['Sentence'].apply(lambda x: clean_text_nostop(x.lower()))\n",
        "data.head()\n"
      ],
      "metadata": {
        "colab": {
          "base_uri": "https://localhost:8080/",
          "height": 206
        },
        "id": "51gFH_cI-uFb",
        "outputId": "4433b730-c347-4b4f-b0cd-fc339f9a4626"
      },
      "execution_count": 7,
      "outputs": [
        {
          "output_type": "execute_result",
          "data": {
            "text/plain": [
              "                                            Sentence  Sentiment  \\\n",
              "0  The GeoSolutions technology will leverage Bene...          0   \n",
              "1  For the last quarter of 2010 , Componenta 's n...          0   \n",
              "2  According to the Finnish-Russian Chamber of Co...          0   \n",
              "3  The Swedish buyout firm has sold its remaining...          0   \n",
              "4    $SPY wouldn't be surprised to see a green close          0   \n",
              "\n",
              "                                          text_clean  \\\n",
              "0  [geosolutions, technology, leverage, benefon, ...   \n",
              "1  [last, quarter, 2010, componenta, net, sale, d...   \n",
              "2  [according, finnishrussian, chamber, commerce,...   \n",
              "3  [swedish, buyout, firm, sold, remaining, 224, ...   \n",
              "4       [spy, wouldnt, surprised, see, green, close]   \n",
              "\n",
              "                                   text_clean_nostop  \n",
              "0  [the, geosolutions, technology, will, leverage...  \n",
              "1  [for, the, last, quarter, of, 2010, componenta...  \n",
              "2  [according, to, the, finnishrussian, chamber, ...  \n",
              "3  [the, swedish, buyout, firm, ha, sold, it, rem...  \n",
              "4  [spy, wouldnt, be, surprised, to, see, a, gree...  "
            ],
            "text/html": [
              "\n",
              "  <div id=\"df-be4d6c47-61dd-4c97-8f1a-dd410fa6be6e\">\n",
              "    <div class=\"colab-df-container\">\n",
              "      <div>\n",
              "<style scoped>\n",
              "    .dataframe tbody tr th:only-of-type {\n",
              "        vertical-align: middle;\n",
              "    }\n",
              "\n",
              "    .dataframe tbody tr th {\n",
              "        vertical-align: top;\n",
              "    }\n",
              "\n",
              "    .dataframe thead th {\n",
              "        text-align: right;\n",
              "    }\n",
              "</style>\n",
              "<table border=\"1\" class=\"dataframe\">\n",
              "  <thead>\n",
              "    <tr style=\"text-align: right;\">\n",
              "      <th></th>\n",
              "      <th>Sentence</th>\n",
              "      <th>Sentiment</th>\n",
              "      <th>text_clean</th>\n",
              "      <th>text_clean_nostop</th>\n",
              "    </tr>\n",
              "  </thead>\n",
              "  <tbody>\n",
              "    <tr>\n",
              "      <th>0</th>\n",
              "      <td>The GeoSolutions technology will leverage Bene...</td>\n",
              "      <td>0</td>\n",
              "      <td>[geosolutions, technology, leverage, benefon, ...</td>\n",
              "      <td>[the, geosolutions, technology, will, leverage...</td>\n",
              "    </tr>\n",
              "    <tr>\n",
              "      <th>1</th>\n",
              "      <td>For the last quarter of 2010 , Componenta 's n...</td>\n",
              "      <td>0</td>\n",
              "      <td>[last, quarter, 2010, componenta, net, sale, d...</td>\n",
              "      <td>[for, the, last, quarter, of, 2010, componenta...</td>\n",
              "    </tr>\n",
              "    <tr>\n",
              "      <th>2</th>\n",
              "      <td>According to the Finnish-Russian Chamber of Co...</td>\n",
              "      <td>0</td>\n",
              "      <td>[according, finnishrussian, chamber, commerce,...</td>\n",
              "      <td>[according, to, the, finnishrussian, chamber, ...</td>\n",
              "    </tr>\n",
              "    <tr>\n",
              "      <th>3</th>\n",
              "      <td>The Swedish buyout firm has sold its remaining...</td>\n",
              "      <td>0</td>\n",
              "      <td>[swedish, buyout, firm, sold, remaining, 224, ...</td>\n",
              "      <td>[the, swedish, buyout, firm, ha, sold, it, rem...</td>\n",
              "    </tr>\n",
              "    <tr>\n",
              "      <th>4</th>\n",
              "      <td>$SPY wouldn't be surprised to see a green close</td>\n",
              "      <td>0</td>\n",
              "      <td>[spy, wouldnt, surprised, see, green, close]</td>\n",
              "      <td>[spy, wouldnt, be, surprised, to, see, a, gree...</td>\n",
              "    </tr>\n",
              "  </tbody>\n",
              "</table>\n",
              "</div>\n",
              "      <button class=\"colab-df-convert\" onclick=\"convertToInteractive('df-be4d6c47-61dd-4c97-8f1a-dd410fa6be6e')\"\n",
              "              title=\"Convert this dataframe to an interactive table.\"\n",
              "              style=\"display:none;\">\n",
              "        \n",
              "  <svg xmlns=\"http://www.w3.org/2000/svg\" height=\"24px\"viewBox=\"0 0 24 24\"\n",
              "       width=\"24px\">\n",
              "    <path d=\"M0 0h24v24H0V0z\" fill=\"none\"/>\n",
              "    <path d=\"M18.56 5.44l.94 2.06.94-2.06 2.06-.94-2.06-.94-.94-2.06-.94 2.06-2.06.94zm-11 1L8.5 8.5l.94-2.06 2.06-.94-2.06-.94L8.5 2.5l-.94 2.06-2.06.94zm10 10l.94 2.06.94-2.06 2.06-.94-2.06-.94-.94-2.06-.94 2.06-2.06.94z\"/><path d=\"M17.41 7.96l-1.37-1.37c-.4-.4-.92-.59-1.43-.59-.52 0-1.04.2-1.43.59L10.3 9.45l-7.72 7.72c-.78.78-.78 2.05 0 2.83L4 21.41c.39.39.9.59 1.41.59.51 0 1.02-.2 1.41-.59l7.78-7.78 2.81-2.81c.8-.78.8-2.07 0-2.86zM5.41 20L4 18.59l7.72-7.72 1.47 1.35L5.41 20z\"/>\n",
              "  </svg>\n",
              "      </button>\n",
              "      \n",
              "  <style>\n",
              "    .colab-df-container {\n",
              "      display:flex;\n",
              "      flex-wrap:wrap;\n",
              "      gap: 12px;\n",
              "    }\n",
              "\n",
              "    .colab-df-convert {\n",
              "      background-color: #E8F0FE;\n",
              "      border: none;\n",
              "      border-radius: 50%;\n",
              "      cursor: pointer;\n",
              "      display: none;\n",
              "      fill: #1967D2;\n",
              "      height: 32px;\n",
              "      padding: 0 0 0 0;\n",
              "      width: 32px;\n",
              "    }\n",
              "\n",
              "    .colab-df-convert:hover {\n",
              "      background-color: #E2EBFA;\n",
              "      box-shadow: 0px 1px 2px rgba(60, 64, 67, 0.3), 0px 1px 3px 1px rgba(60, 64, 67, 0.15);\n",
              "      fill: #174EA6;\n",
              "    }\n",
              "\n",
              "    [theme=dark] .colab-df-convert {\n",
              "      background-color: #3B4455;\n",
              "      fill: #D2E3FC;\n",
              "    }\n",
              "\n",
              "    [theme=dark] .colab-df-convert:hover {\n",
              "      background-color: #434B5C;\n",
              "      box-shadow: 0px 1px 3px 1px rgba(0, 0, 0, 0.15);\n",
              "      filter: drop-shadow(0px 1px 2px rgba(0, 0, 0, 0.3));\n",
              "      fill: #FFFFFF;\n",
              "    }\n",
              "  </style>\n",
              "\n",
              "      <script>\n",
              "        const buttonEl =\n",
              "          document.querySelector('#df-be4d6c47-61dd-4c97-8f1a-dd410fa6be6e button.colab-df-convert');\n",
              "        buttonEl.style.display =\n",
              "          google.colab.kernel.accessAllowed ? 'block' : 'none';\n",
              "\n",
              "        async function convertToInteractive(key) {\n",
              "          const element = document.querySelector('#df-be4d6c47-61dd-4c97-8f1a-dd410fa6be6e');\n",
              "          const dataTable =\n",
              "            await google.colab.kernel.invokeFunction('convertToInteractive',\n",
              "                                                     [key], {});\n",
              "          if (!dataTable) return;\n",
              "\n",
              "          const docLinkHtml = 'Like what you see? Visit the ' +\n",
              "            '<a target=\"_blank\" href=https://colab.research.google.com/notebooks/data_table.ipynb>data table notebook</a>'\n",
              "            + ' to learn more about interactive tables.';\n",
              "          element.innerHTML = '';\n",
              "          dataTable['output_type'] = 'display_data';\n",
              "          await google.colab.output.renderOutput(dataTable, element);\n",
              "          const docLink = document.createElement('div');\n",
              "          docLink.innerHTML = docLinkHtml;\n",
              "          element.appendChild(docLink);\n",
              "        }\n",
              "      </script>\n",
              "    </div>\n",
              "  </div>\n",
              "  "
            ]
          },
          "metadata": {},
          "execution_count": 7
        }
      ]
    },
    {
      "cell_type": "code",
      "source": [
        "#one hot encoding of label for cnn\n",
        "y_ohe = pd.get_dummies(data['Sentiment'])"
      ],
      "metadata": {
        "id": "ySVslItA-zaS"
      },
      "execution_count": 8,
      "outputs": []
    },
    {
      "cell_type": "code",
      "source": [
        "# CLASSIFFIERS\n",
        "\n",
        "#model_1- Logistic Regression \n",
        "\n",
        "def LogReg_bow_tfidf_ngram(data = data,bow = False,TFIDF = False,Ngram = False, stopw=False):\n",
        "  X = data.sample(frac=1).reset_index(drop= True) # this shuffle data and reset index\n",
        "  y = data.Sentiment.values\n",
        "  if bow and stopw:\n",
        "        count_vec = CountVectorizer(tokenizer = word_tokenize, analyzer=clean_text,token_pattern=None)\n",
        "  elif TFIDF and stopw:\n",
        "      count_vec = TfidfVectorizer(tokenizer = word_tokenize, analyzer=clean_text,token_pattern=None)\n",
        "  elif Ngram and stopw:\n",
        "      count_vec = CountVectorizer(tokenizer = word_tokenize,analyzer=clean_text, token_pattern=None, ngram_range = (1, 3))\n",
        "  elif bow:  \n",
        "       count_vec = CountVectorizer(tokenizer = word_tokenize, analyzer=clean_text_nostop,token_pattern=None)\n",
        "  elif TFIDF:\n",
        "       count_vec = TfidfVectorizer(tokenizer = word_tokenize, analyzer=clean_text_nostop,token_pattern=None)\n",
        "  elif Ngram: \n",
        "      count_vec = CountVectorizer(tokenizer = word_tokenize,analyzer=clean_text_nostop, token_pattern=None, ngram_range = (1, 3))   \n",
        "    \n",
        "  model=LogisticRegression(solver = 'liblinear')\n",
        "  skf = StratifiedKFold(n_splits=5)\n",
        "  lst_accu_stratified=[]\n",
        "  for i, (train_index, test_index) in enumerate(skf.split(X, y)):\n",
        "        \n",
        "        X_train=X.iloc[train_index,:]\n",
        "        X_test=X.iloc[test_index,:]\n",
        "        y_train=y[train_index]\n",
        "        y_test=y[test_index]\n",
        "\n",
        "        Xtrain_countVec = count_vec.fit_transform(X_train['Sentence'])\n",
        "        Xtest_countVec = count_vec.transform(X_test['Sentence'])\n",
        "        \n",
        "        model.fit(Xtrain_countVec,y_train)\n",
        "        y_pred = model.predict(Xtest_countVec)\n",
        "        accuracy_precision = precision_score(y_test, y_pred, average='micro')\n",
        "        accuracy_recall = recall_score(y_test, y_pred, average='micro')\n",
        "        lst_accu_stratified.append([accuracy_precision,accuracy_recall])\n",
        "\n",
        "        #print('precision score:', accuracy_precision)\n",
        "        #print('recall score:', accuracy_recall)\n",
        "        #print(\"========================================================\")\n",
        "  print('Overall precision and recall:',np.mean(lst_accu_stratified,axis=0))"
      ],
      "metadata": {
        "id": "WFuEDvqp-7gd"
      },
      "execution_count": 9,
      "outputs": []
    },
    {
      "cell_type": "code",
      "source": [
        "\n",
        "# Logistic Regression+ BOW+ text without stopwords\n",
        "LogReg_bow_tfidf_ngram(data = data,bow = True,TFIDF = False,Ngram = False,stopw=True)\n",
        "# Logistic Regression+ TFIDF+ text without stopwords\n",
        "LogReg_bow_tfidf_ngram(data = data,bow = False,TFIDF = True,Ngram = False,stopw=True)\n",
        "# Logistic Regression+ Ngram=3+ text without stopwords\n",
        "LogReg_bow_tfidf_ngram(data = data,bow = False,TFIDF = False,Ngram = True,stopw=True)"
      ],
      "metadata": {
        "colab": {
          "base_uri": "https://localhost:8080/"
        },
        "id": "YY7_oIwz_E2D",
        "outputId": "33a7c1c9-bd82-46ed-a849-49f7f5362cad"
      },
      "execution_count": 10,
      "outputs": [
        {
          "output_type": "stream",
          "name": "stdout",
          "text": [
            "Overall precision and recall: [0.49742142 0.49742142]\n",
            "Overall precision and recall: [0.49712203 0.49712203]\n",
            "Overall precision and recall: [0.50645186 0.50645186]\n"
          ]
        }
      ]
    },
    {
      "cell_type": "code",
      "source": [
        "\n",
        "# Logistic Regression+ BOW+ text with stopwords\n",
        "LogReg_bow_tfidf_ngram(data = data,bow = True,TFIDF = False,Ngram = False)\n",
        "# Logistic Regression+ TFIDF+ text with stopwords\n",
        "LogReg_bow_tfidf_ngram(data = data,bow = False,TFIDF = True,Ngram = False)\n",
        "# Logistic Regression+ Ngram=3+ text with stopwords\n",
        "LogReg_bow_tfidf_ngram(data = data,bow = False,TFIDF = False,Ngram = True)"
      ],
      "metadata": {
        "colab": {
          "base_uri": "https://localhost:8080/"
        },
        "id": "vAAfESwh_Hjt",
        "outputId": "46ed99c6-d839-456f-c189-be51db992d62"
      },
      "execution_count": 11,
      "outputs": [
        {
          "output_type": "stream",
          "name": "stdout",
          "text": [
            "Overall precision and recall: [0.50466531 0.50466531]\n",
            "Overall precision and recall: [0.49771604 0.49771604]\n",
            "Overall precision and recall: [0.49027325 0.49027325]\n"
          ]
        }
      ]
    },
    {
      "cell_type": "code",
      "source": [
        "#model_2- Naive Bayes\n",
        "\n",
        "\n",
        "X = data.sample(frac=1).reset_index(drop= True) # this shuffle data and reset index\n",
        "y = data.Sentiment.values\n",
        "X_train, X_test, y_train, y_test = train_test_split(X, y, test_size=0.25,random_state=0)\n",
        "# text without stopword\n",
        "cv=CountVectorizer(analyzer=clean_text)\n",
        "Xtrain_cv = cv.fit_transform(X_train['Sentence'])\n",
        "Xtest_cv = cv.transform(X_test['Sentence'])\n",
        "\n",
        "classifier1=GaussianNB()\n",
        "classifier1.fit(Xtrain_cv.toarray(),y_train)\n",
        "y_pred=classifier1.predict(Xtest_cv.toarray())\n",
        "accuracy_precision = precision_score(y_test, y_pred, average='micro')\n",
        "accuracy_recall = recall_score(y_test, y_pred, average='micro')\n",
        "print('precision score:', accuracy_precision)\n",
        "print('recall score:', accuracy_recall)\n",
        "print(\"========================================================\")\n",
        "# text with stopword\n",
        "cv=CountVectorizer(analyzer=clean_text_nostop)\n",
        "Xtrain_cv = cv.fit_transform(X_train['Sentence'])\n",
        "Xtest_cv = cv.transform(X_test['Sentence'])\n",
        "classifier2=GaussianNB()\n",
        "classifier2.fit(Xtrain_cv.toarray(),y_train)\n",
        "y_pred=classifier2.predict(Xtest_cv.toarray())\n",
        "accuracy_precision = precision_score(y_test, y_pred, average='micro')\n",
        "accuracy_recall = recall_score(y_test, y_pred, average='micro')\n",
        "print('precision score:', accuracy_precision)\n",
        "print('recall score:', accuracy_recall)\n",
        "print(\"========================================================\")"
      ],
      "metadata": {
        "colab": {
          "base_uri": "https://localhost:8080/"
        },
        "id": "Ya145Ssh_Tq_",
        "outputId": "7a2b8725-9b9c-4a46-9852-72bf309b894c"
      },
      "execution_count": 12,
      "outputs": [
        {
          "output_type": "stream",
          "name": "stdout",
          "text": [
            "precision score: 0.49186184994045257\n",
            "recall score: 0.49186184994045257\n",
            "========================================================\n",
            "precision score: 0.4938467645891227\n",
            "recall score: 0.4938467645891227\n",
            "========================================================\n"
          ]
        }
      ]
    },
    {
      "cell_type": "code",
      "source": [
        "#model_3- Random Forest\n",
        "X_train,X_test,y_train,y_test=train_test_split(data['text_clean'],data['Sentiment'],test_size=0.25)\n",
        "w2v_model=gensim.models.Word2Vec(X_train,min_count=1)# Word 2 Vector\n",
        "vecWords=w2v_model.wv.index2word\n",
        "X_train_vect=np.array([np.array([w2v_model.wv[i] for i in ls if i in vecWords]) for ls in X_train])\n",
        "X_test_vect=np.array([np.array([w2v_model.wv[i] for i in ls if i in vecWords]) for ls in X_test])\n",
        "\n",
        "X_train_vect_avg=[]\n",
        "for v in X_train_vect:\n",
        "  if v.size:\n",
        "    X_train_vect_avg.append(v.mean(axis=0))\n",
        "  else:\n",
        "      X_train_vect_avg.append(np.zeros(100,dtype=float))\n",
        "\n",
        "X_test_vect_avg=[]\n",
        "for v in X_test_vect:\n",
        "  if v.size:\n",
        "    X_test_vect_avg.append(v.mean(axis=0))\n",
        "  else:\n",
        "      X_test_vect_avg.append(np.zeros(100,dtype=float))\n",
        "\n",
        "clf=RandomForestClassifier(n_estimators=100)\n",
        "clf.fit(X_train_vect_avg,y_train)\n",
        "y_pred=clf.predict(X_test_vect_avg)\n",
        "accuracy_precision = precision_score(y_test, y_pred, average='micro')\n",
        "accuracy_recall = recall_score(y_test, y_pred, average='micro')\n",
        "print('precision score:', accuracy_precision)\n",
        "print('recall score:', accuracy_recall)\n",
        "print(\"========================================================\")          "
      ],
      "metadata": {
        "colab": {
          "base_uri": "https://localhost:8080/"
        },
        "id": "6N7-37Fn_bOz",
        "outputId": "14c86828-0686-467d-ddec-b400de74848f"
      },
      "execution_count": 13,
      "outputs": [
        {
          "output_type": "stream",
          "name": "stdout",
          "text": [
            "precision score: 0.6709011512504962\n",
            "recall score: 0.6709011512504962\n",
            "========================================================\n"
          ]
        }
      ]
    },
    {
      "cell_type": "code",
      "source": [
        "## LSTM"
      ],
      "metadata": {
        "id": "plGpccb-_fbD"
      },
      "execution_count": 14,
      "outputs": []
    },
    {
      "cell_type": "code",
      "source": [
        "## CountVectorizer\n",
        "from sklearn.feature_extraction.text import CountVectorizer\n",
        "\n",
        "count_vect = CountVectorizer(analyzer=clean_text)\n",
        "X_counts = count_vect.fit_transform(data['Sentence'])\n",
        "print(X_counts.shape)\n",
        "#print(count_vect.get_feature_names())\n",
        "print(count_vect.get_feature_names_out())"
      ],
      "metadata": {
        "colab": {
          "base_uri": "https://localhost:8080/"
        },
        "id": "idp-lJx0AdHH",
        "outputId": "a464c00d-8e99-42dd-bb11-153153dc7e87"
      },
      "execution_count": 15,
      "outputs": [
        {
          "output_type": "stream",
          "name": "stdout",
          "text": [
            "(10074, 16004)\n",
            "['' '0' '00' ... 'Âºo' 'Â¼' 'Ã']\n"
          ]
        }
      ]
    },
    {
      "cell_type": "code",
      "source": [
        "\n",
        "X_counts_df = pd.DataFrame(X_counts.toarray())\n",
        "X_counts_df.columns = count_vect.get_feature_names()\n",
        "X_counts_df\n",
        "     "
      ],
      "metadata": {
        "colab": {
          "base_uri": "https://localhost:8080/",
          "height": 424
        },
        "id": "49glMC6lAf0L",
        "outputId": "2c922677-aec1-48a9-a1b0-d46da8696e2d"
      },
      "execution_count": 16,
      "outputs": [
        {
          "output_type": "execute_result",
          "data": {
            "text/plain": [
              "          0  00  000  000063  0008  001  002  0025  003  ...  zona  zone  zoo  \\\n",
              "0      1  0   0    0       0     0    0    0     0    0  ...     0     0    0   \n",
              "1      1  0   0    0       0     0    0    0     0    0  ...     0     0    0   \n",
              "2      1  0   0    0       0     0    0    0     0    0  ...     0     0    0   \n",
              "3      1  0   0    0       0     0    0    0     0    0  ...     0     0    0   \n",
              "4      0  0   0    0       0     0    0    0     0    0  ...     0     0    0   \n",
              "...   .. ..  ..  ...     ...   ...  ...  ...   ...  ...  ...   ...   ...  ...   \n",
              "10069  1  0   0    0       0     0    0    0     0    0  ...     0     0    0   \n",
              "10070  1  0   0    0       0     0    0    0     0    0  ...     0     0    0   \n",
              "10071  1  0   0    0       0     0    0    0     0    0  ...     0     0    0   \n",
              "10072  1  0   0    0       0     0    0    0     0    0  ...     0     0    0   \n",
              "10073  1  0   0    0       0     0    0    0     0    0  ...     0     0    0   \n",
              "\n",
              "       zu  Â  Â³  Â³EUR  Âºo  Â¼  Ã  \n",
              "0       0  0   0      0    0   0  0  \n",
              "1       0  0   0      0    0   0  0  \n",
              "2       0  0   0      0    0   0  0  \n",
              "3       0  0   0      0    0   0  0  \n",
              "4       0  0   0      0    0   0  0  \n",
              "...    .. ..  ..    ...  ...  .. ..  \n",
              "10069   0  0   0      0    0   0  0  \n",
              "10070   0  0   0      0    0   0  0  \n",
              "10071   0  0   0      0    0   0  0  \n",
              "10072   0  0   0      0    0   0  0  \n",
              "10073   0  0   0      0    0   0  0  \n",
              "\n",
              "[10074 rows x 16004 columns]"
            ],
            "text/html": [
              "\n",
              "  <div id=\"df-d818e2e2-ad5f-4ffa-b1d8-5b358e9fbaeb\">\n",
              "    <div class=\"colab-df-container\">\n",
              "      <div>\n",
              "<style scoped>\n",
              "    .dataframe tbody tr th:only-of-type {\n",
              "        vertical-align: middle;\n",
              "    }\n",
              "\n",
              "    .dataframe tbody tr th {\n",
              "        vertical-align: top;\n",
              "    }\n",
              "\n",
              "    .dataframe thead th {\n",
              "        text-align: right;\n",
              "    }\n",
              "</style>\n",
              "<table border=\"1\" class=\"dataframe\">\n",
              "  <thead>\n",
              "    <tr style=\"text-align: right;\">\n",
              "      <th></th>\n",
              "      <th></th>\n",
              "      <th>0</th>\n",
              "      <th>00</th>\n",
              "      <th>000</th>\n",
              "      <th>000063</th>\n",
              "      <th>0008</th>\n",
              "      <th>001</th>\n",
              "      <th>002</th>\n",
              "      <th>0025</th>\n",
              "      <th>003</th>\n",
              "      <th>...</th>\n",
              "      <th>zona</th>\n",
              "      <th>zone</th>\n",
              "      <th>zoo</th>\n",
              "      <th>zu</th>\n",
              "      <th>Â</th>\n",
              "      <th>Â³</th>\n",
              "      <th>Â³EUR</th>\n",
              "      <th>Âºo</th>\n",
              "      <th>Â¼</th>\n",
              "      <th>Ã</th>\n",
              "    </tr>\n",
              "  </thead>\n",
              "  <tbody>\n",
              "    <tr>\n",
              "      <th>0</th>\n",
              "      <td>1</td>\n",
              "      <td>0</td>\n",
              "      <td>0</td>\n",
              "      <td>0</td>\n",
              "      <td>0</td>\n",
              "      <td>0</td>\n",
              "      <td>0</td>\n",
              "      <td>0</td>\n",
              "      <td>0</td>\n",
              "      <td>0</td>\n",
              "      <td>...</td>\n",
              "      <td>0</td>\n",
              "      <td>0</td>\n",
              "      <td>0</td>\n",
              "      <td>0</td>\n",
              "      <td>0</td>\n",
              "      <td>0</td>\n",
              "      <td>0</td>\n",
              "      <td>0</td>\n",
              "      <td>0</td>\n",
              "      <td>0</td>\n",
              "    </tr>\n",
              "    <tr>\n",
              "      <th>1</th>\n",
              "      <td>1</td>\n",
              "      <td>0</td>\n",
              "      <td>0</td>\n",
              "      <td>0</td>\n",
              "      <td>0</td>\n",
              "      <td>0</td>\n",
              "      <td>0</td>\n",
              "      <td>0</td>\n",
              "      <td>0</td>\n",
              "      <td>0</td>\n",
              "      <td>...</td>\n",
              "      <td>0</td>\n",
              "      <td>0</td>\n",
              "      <td>0</td>\n",
              "      <td>0</td>\n",
              "      <td>0</td>\n",
              "      <td>0</td>\n",
              "      <td>0</td>\n",
              "      <td>0</td>\n",
              "      <td>0</td>\n",
              "      <td>0</td>\n",
              "    </tr>\n",
              "    <tr>\n",
              "      <th>2</th>\n",
              "      <td>1</td>\n",
              "      <td>0</td>\n",
              "      <td>0</td>\n",
              "      <td>0</td>\n",
              "      <td>0</td>\n",
              "      <td>0</td>\n",
              "      <td>0</td>\n",
              "      <td>0</td>\n",
              "      <td>0</td>\n",
              "      <td>0</td>\n",
              "      <td>...</td>\n",
              "      <td>0</td>\n",
              "      <td>0</td>\n",
              "      <td>0</td>\n",
              "      <td>0</td>\n",
              "      <td>0</td>\n",
              "      <td>0</td>\n",
              "      <td>0</td>\n",
              "      <td>0</td>\n",
              "      <td>0</td>\n",
              "      <td>0</td>\n",
              "    </tr>\n",
              "    <tr>\n",
              "      <th>3</th>\n",
              "      <td>1</td>\n",
              "      <td>0</td>\n",
              "      <td>0</td>\n",
              "      <td>0</td>\n",
              "      <td>0</td>\n",
              "      <td>0</td>\n",
              "      <td>0</td>\n",
              "      <td>0</td>\n",
              "      <td>0</td>\n",
              "      <td>0</td>\n",
              "      <td>...</td>\n",
              "      <td>0</td>\n",
              "      <td>0</td>\n",
              "      <td>0</td>\n",
              "      <td>0</td>\n",
              "      <td>0</td>\n",
              "      <td>0</td>\n",
              "      <td>0</td>\n",
              "      <td>0</td>\n",
              "      <td>0</td>\n",
              "      <td>0</td>\n",
              "    </tr>\n",
              "    <tr>\n",
              "      <th>4</th>\n",
              "      <td>0</td>\n",
              "      <td>0</td>\n",
              "      <td>0</td>\n",
              "      <td>0</td>\n",
              "      <td>0</td>\n",
              "      <td>0</td>\n",
              "      <td>0</td>\n",
              "      <td>0</td>\n",
              "      <td>0</td>\n",
              "      <td>0</td>\n",
              "      <td>...</td>\n",
              "      <td>0</td>\n",
              "      <td>0</td>\n",
              "      <td>0</td>\n",
              "      <td>0</td>\n",
              "      <td>0</td>\n",
              "      <td>0</td>\n",
              "      <td>0</td>\n",
              "      <td>0</td>\n",
              "      <td>0</td>\n",
              "      <td>0</td>\n",
              "    </tr>\n",
              "    <tr>\n",
              "      <th>...</th>\n",
              "      <td>...</td>\n",
              "      <td>...</td>\n",
              "      <td>...</td>\n",
              "      <td>...</td>\n",
              "      <td>...</td>\n",
              "      <td>...</td>\n",
              "      <td>...</td>\n",
              "      <td>...</td>\n",
              "      <td>...</td>\n",
              "      <td>...</td>\n",
              "      <td>...</td>\n",
              "      <td>...</td>\n",
              "      <td>...</td>\n",
              "      <td>...</td>\n",
              "      <td>...</td>\n",
              "      <td>...</td>\n",
              "      <td>...</td>\n",
              "      <td>...</td>\n",
              "      <td>...</td>\n",
              "      <td>...</td>\n",
              "      <td>...</td>\n",
              "    </tr>\n",
              "    <tr>\n",
              "      <th>10069</th>\n",
              "      <td>1</td>\n",
              "      <td>0</td>\n",
              "      <td>0</td>\n",
              "      <td>0</td>\n",
              "      <td>0</td>\n",
              "      <td>0</td>\n",
              "      <td>0</td>\n",
              "      <td>0</td>\n",
              "      <td>0</td>\n",
              "      <td>0</td>\n",
              "      <td>...</td>\n",
              "      <td>0</td>\n",
              "      <td>0</td>\n",
              "      <td>0</td>\n",
              "      <td>0</td>\n",
              "      <td>0</td>\n",
              "      <td>0</td>\n",
              "      <td>0</td>\n",
              "      <td>0</td>\n",
              "      <td>0</td>\n",
              "      <td>0</td>\n",
              "    </tr>\n",
              "    <tr>\n",
              "      <th>10070</th>\n",
              "      <td>1</td>\n",
              "      <td>0</td>\n",
              "      <td>0</td>\n",
              "      <td>0</td>\n",
              "      <td>0</td>\n",
              "      <td>0</td>\n",
              "      <td>0</td>\n",
              "      <td>0</td>\n",
              "      <td>0</td>\n",
              "      <td>0</td>\n",
              "      <td>...</td>\n",
              "      <td>0</td>\n",
              "      <td>0</td>\n",
              "      <td>0</td>\n",
              "      <td>0</td>\n",
              "      <td>0</td>\n",
              "      <td>0</td>\n",
              "      <td>0</td>\n",
              "      <td>0</td>\n",
              "      <td>0</td>\n",
              "      <td>0</td>\n",
              "    </tr>\n",
              "    <tr>\n",
              "      <th>10071</th>\n",
              "      <td>1</td>\n",
              "      <td>0</td>\n",
              "      <td>0</td>\n",
              "      <td>0</td>\n",
              "      <td>0</td>\n",
              "      <td>0</td>\n",
              "      <td>0</td>\n",
              "      <td>0</td>\n",
              "      <td>0</td>\n",
              "      <td>0</td>\n",
              "      <td>...</td>\n",
              "      <td>0</td>\n",
              "      <td>0</td>\n",
              "      <td>0</td>\n",
              "      <td>0</td>\n",
              "      <td>0</td>\n",
              "      <td>0</td>\n",
              "      <td>0</td>\n",
              "      <td>0</td>\n",
              "      <td>0</td>\n",
              "      <td>0</td>\n",
              "    </tr>\n",
              "    <tr>\n",
              "      <th>10072</th>\n",
              "      <td>1</td>\n",
              "      <td>0</td>\n",
              "      <td>0</td>\n",
              "      <td>0</td>\n",
              "      <td>0</td>\n",
              "      <td>0</td>\n",
              "      <td>0</td>\n",
              "      <td>0</td>\n",
              "      <td>0</td>\n",
              "      <td>0</td>\n",
              "      <td>...</td>\n",
              "      <td>0</td>\n",
              "      <td>0</td>\n",
              "      <td>0</td>\n",
              "      <td>0</td>\n",
              "      <td>0</td>\n",
              "      <td>0</td>\n",
              "      <td>0</td>\n",
              "      <td>0</td>\n",
              "      <td>0</td>\n",
              "      <td>0</td>\n",
              "    </tr>\n",
              "    <tr>\n",
              "      <th>10073</th>\n",
              "      <td>1</td>\n",
              "      <td>0</td>\n",
              "      <td>0</td>\n",
              "      <td>0</td>\n",
              "      <td>0</td>\n",
              "      <td>0</td>\n",
              "      <td>0</td>\n",
              "      <td>0</td>\n",
              "      <td>0</td>\n",
              "      <td>0</td>\n",
              "      <td>...</td>\n",
              "      <td>0</td>\n",
              "      <td>0</td>\n",
              "      <td>0</td>\n",
              "      <td>0</td>\n",
              "      <td>0</td>\n",
              "      <td>0</td>\n",
              "      <td>0</td>\n",
              "      <td>0</td>\n",
              "      <td>0</td>\n",
              "      <td>0</td>\n",
              "    </tr>\n",
              "  </tbody>\n",
              "</table>\n",
              "<p>10074 rows × 16004 columns</p>\n",
              "</div>\n",
              "      <button class=\"colab-df-convert\" onclick=\"convertToInteractive('df-d818e2e2-ad5f-4ffa-b1d8-5b358e9fbaeb')\"\n",
              "              title=\"Convert this dataframe to an interactive table.\"\n",
              "              style=\"display:none;\">\n",
              "        \n",
              "  <svg xmlns=\"http://www.w3.org/2000/svg\" height=\"24px\"viewBox=\"0 0 24 24\"\n",
              "       width=\"24px\">\n",
              "    <path d=\"M0 0h24v24H0V0z\" fill=\"none\"/>\n",
              "    <path d=\"M18.56 5.44l.94 2.06.94-2.06 2.06-.94-2.06-.94-.94-2.06-.94 2.06-2.06.94zm-11 1L8.5 8.5l.94-2.06 2.06-.94-2.06-.94L8.5 2.5l-.94 2.06-2.06.94zm10 10l.94 2.06.94-2.06 2.06-.94-2.06-.94-.94-2.06-.94 2.06-2.06.94z\"/><path d=\"M17.41 7.96l-1.37-1.37c-.4-.4-.92-.59-1.43-.59-.52 0-1.04.2-1.43.59L10.3 9.45l-7.72 7.72c-.78.78-.78 2.05 0 2.83L4 21.41c.39.39.9.59 1.41.59.51 0 1.02-.2 1.41-.59l7.78-7.78 2.81-2.81c.8-.78.8-2.07 0-2.86zM5.41 20L4 18.59l7.72-7.72 1.47 1.35L5.41 20z\"/>\n",
              "  </svg>\n",
              "      </button>\n",
              "      \n",
              "  <style>\n",
              "    .colab-df-container {\n",
              "      display:flex;\n",
              "      flex-wrap:wrap;\n",
              "      gap: 12px;\n",
              "    }\n",
              "\n",
              "    .colab-df-convert {\n",
              "      background-color: #E8F0FE;\n",
              "      border: none;\n",
              "      border-radius: 50%;\n",
              "      cursor: pointer;\n",
              "      display: none;\n",
              "      fill: #1967D2;\n",
              "      height: 32px;\n",
              "      padding: 0 0 0 0;\n",
              "      width: 32px;\n",
              "    }\n",
              "\n",
              "    .colab-df-convert:hover {\n",
              "      background-color: #E2EBFA;\n",
              "      box-shadow: 0px 1px 2px rgba(60, 64, 67, 0.3), 0px 1px 3px 1px rgba(60, 64, 67, 0.15);\n",
              "      fill: #174EA6;\n",
              "    }\n",
              "\n",
              "    [theme=dark] .colab-df-convert {\n",
              "      background-color: #3B4455;\n",
              "      fill: #D2E3FC;\n",
              "    }\n",
              "\n",
              "    [theme=dark] .colab-df-convert:hover {\n",
              "      background-color: #434B5C;\n",
              "      box-shadow: 0px 1px 3px 1px rgba(0, 0, 0, 0.15);\n",
              "      filter: drop-shadow(0px 1px 2px rgba(0, 0, 0, 0.3));\n",
              "      fill: #FFFFFF;\n",
              "    }\n",
              "  </style>\n",
              "\n",
              "      <script>\n",
              "        const buttonEl =\n",
              "          document.querySelector('#df-d818e2e2-ad5f-4ffa-b1d8-5b358e9fbaeb button.colab-df-convert');\n",
              "        buttonEl.style.display =\n",
              "          google.colab.kernel.accessAllowed ? 'block' : 'none';\n",
              "\n",
              "        async function convertToInteractive(key) {\n",
              "          const element = document.querySelector('#df-d818e2e2-ad5f-4ffa-b1d8-5b358e9fbaeb');\n",
              "          const dataTable =\n",
              "            await google.colab.kernel.invokeFunction('convertToInteractive',\n",
              "                                                     [key], {});\n",
              "          if (!dataTable) return;\n",
              "\n",
              "          const docLinkHtml = 'Like what you see? Visit the ' +\n",
              "            '<a target=\"_blank\" href=https://colab.research.google.com/notebooks/data_table.ipynb>data table notebook</a>'\n",
              "            + ' to learn more about interactive tables.';\n",
              "          element.innerHTML = '';\n",
              "          dataTable['output_type'] = 'display_data';\n",
              "          await google.colab.output.renderOutput(dataTable, element);\n",
              "          const docLink = document.createElement('div');\n",
              "          docLink.innerHTML = docLinkHtml;\n",
              "          element.appendChild(docLink);\n",
              "        }\n",
              "      </script>\n",
              "    </div>\n",
              "  </div>\n",
              "  "
            ]
          },
          "metadata": {},
          "execution_count": 16
        }
      ]
    },
    {
      "cell_type": "code",
      "source": [
        "\n",
        "X = X_counts_df\n",
        "X.shape,y_ohe.shape"
      ],
      "metadata": {
        "colab": {
          "base_uri": "https://localhost:8080/"
        },
        "id": "7JL90tcaAj07",
        "outputId": "01d39dab-1bae-4dd6-b532-1afa7fd0fdb4"
      },
      "execution_count": 17,
      "outputs": [
        {
          "output_type": "execute_result",
          "data": {
            "text/plain": [
              "((10074, 16004), (10074, 2))"
            ]
          },
          "metadata": {},
          "execution_count": 17
        }
      ]
    },
    {
      "cell_type": "code",
      "source": [
        "from sklearn.model_selection import train_test_split\n",
        "\n",
        "X_train, X_test, y_train, y_test = train_test_split(X, y_ohe, test_size=0.10, stratify=y_ohe,\n",
        "                                                    random_state=42)\n",
        "X_train, X_val, y_train, y_val = train_test_split(X_train, y_train, test_size=0.15, stratify=y_train,\n",
        "                                                  random_state=42)\n",
        "X_train.shape, X_val.shape, X_test.shape, y_train.shape, y_val.shape, y_test.shape"
      ],
      "metadata": {
        "colab": {
          "base_uri": "https://localhost:8080/"
        },
        "id": "Zg8qROhcAoSU",
        "outputId": "8f82537f-dfc0-4827-d305-33eef55ea9e5"
      },
      "execution_count": 18,
      "outputs": [
        {
          "output_type": "execute_result",
          "data": {
            "text/plain": [
              "((7706, 16004), (1360, 16004), (1008, 16004), (7706, 2), (1360, 2), (1008, 2))"
            ]
          },
          "metadata": {},
          "execution_count": 18
        }
      ]
    },
    {
      "cell_type": "code",
      "source": [
        "train_x = np.asarray(X_train)\n",
        "train_y = np.asarray(y_train)\n",
        "validation_x = np.asarray(X_val)\n",
        "validation_y = np.asarray(y_val)\n",
        "train_x = train_x.reshape((train_x.shape[0],1,train_x.shape[1]))\n",
        "validation_x = validation_x.reshape((validation_x.shape[0],1,validation_x.shape[1]))\n",
        "train_x.shape, validation_x.shape\n",
        "     "
      ],
      "metadata": {
        "colab": {
          "base_uri": "https://localhost:8080/"
        },
        "id": "81-x6jVMAwi9",
        "outputId": "6cb588f5-2b97-436f-ae00-95dc3297c56f"
      },
      "execution_count": 19,
      "outputs": [
        {
          "output_type": "execute_result",
          "data": {
            "text/plain": [
              "((7706, 1, 16004), (1360, 1, 16004))"
            ]
          },
          "metadata": {},
          "execution_count": 19
        }
      ]
    },
    {
      "cell_type": "code",
      "source": [
        "from keras.layers.regularization.dropout import Dropout\n",
        "import keras\n",
        "from keras.models import Sequential\n",
        "from keras.layers import Dense\n",
        "from keras.layers import LSTM\n",
        "from keras.layers import BatchNormalization\n",
        "from keras.layers import MaxPooling2D\n",
        "\n",
        "model = Sequential()\n",
        "model.add(LSTM(150, activation='relu', input_shape=(1,train_x.shape[2])))\n",
        "model.add(BatchNormalization())\n",
        "model.add(Dense(100, activation='relu'))\n",
        "model.add(Dropout(0.4))\n",
        "model.add(Dense(30, activation='relu'))\n",
        "model.add(Dropout(0.4))\n",
        "model.add(Dense(2, activation='softmax'))\n",
        "model.compile(loss='categorical_crossentropy', optimizer='adam', metrics=['accuracy'])\n",
        "print(model.summary())"
      ],
      "metadata": {
        "colab": {
          "base_uri": "https://localhost:8080/"
        },
        "id": "vWaioNBzAziv",
        "outputId": "2974218e-fd3e-4cef-a015-a9943a2a8baf"
      },
      "execution_count": 20,
      "outputs": [
        {
          "output_type": "stream",
          "name": "stderr",
          "text": [
            "WARNING:tensorflow:Layer lstm will not use cuDNN kernels since it doesn't meet the criteria. It will use a generic GPU kernel as fallback when running on GPU.\n"
          ]
        },
        {
          "output_type": "stream",
          "name": "stdout",
          "text": [
            "Model: \"sequential\"\n",
            "_________________________________________________________________\n",
            " Layer (type)                Output Shape              Param #   \n",
            "=================================================================\n",
            " lstm (LSTM)                 (None, 150)               9693000   \n",
            "                                                                 \n",
            " batch_normalization (BatchN  (None, 150)              600       \n",
            " ormalization)                                                   \n",
            "                                                                 \n",
            " dense (Dense)               (None, 100)               15100     \n",
            "                                                                 \n",
            " dropout (Dropout)           (None, 100)               0         \n",
            "                                                                 \n",
            " dense_1 (Dense)             (None, 30)                3030      \n",
            "                                                                 \n",
            " dropout_1 (Dropout)         (None, 30)                0         \n",
            "                                                                 \n",
            " dense_2 (Dense)             (None, 2)                 62        \n",
            "                                                                 \n",
            "=================================================================\n",
            "Total params: 9,711,792\n",
            "Trainable params: 9,711,492\n",
            "Non-trainable params: 300\n",
            "_________________________________________________________________\n",
            "None\n"
          ]
        }
      ]
    },
    {
      "cell_type": "code",
      "source": [
        "history1=model.fit(train_x,train_y,batch_size=32, epochs=30,verbose=2,validation_data=(validation_x, validation_y ))"
      ],
      "metadata": {
        "colab": {
          "base_uri": "https://localhost:8080/"
        },
        "id": "Epo3GZ05A2Cd",
        "outputId": "0ebe5288-7087-4904-94d8-81938f38c795"
      },
      "execution_count": 21,
      "outputs": [
        {
          "output_type": "stream",
          "name": "stdout",
          "text": [
            "Epoch 1/30\n",
            "241/241 - 6s - loss: 0.4724 - accuracy: 0.7822 - val_loss: 0.5290 - val_accuracy: 0.8221 - 6s/epoch - 24ms/step\n",
            "Epoch 2/30\n",
            "241/241 - 2s - loss: 0.2382 - accuracy: 0.9089 - val_loss: 0.3037 - val_accuracy: 0.8890 - 2s/epoch - 8ms/step\n",
            "Epoch 3/30\n",
            "241/241 - 2s - loss: 0.1863 - accuracy: 0.9263 - val_loss: 0.2790 - val_accuracy: 0.8971 - 2s/epoch - 8ms/step\n",
            "Epoch 4/30\n",
            "241/241 - 2s - loss: 0.1571 - accuracy: 0.9356 - val_loss: 0.3397 - val_accuracy: 0.8941 - 2s/epoch - 8ms/step\n",
            "Epoch 5/30\n",
            "241/241 - 2s - loss: 0.1451 - accuracy: 0.9377 - val_loss: 0.3444 - val_accuracy: 0.8993 - 2s/epoch - 8ms/step\n",
            "Epoch 6/30\n",
            "241/241 - 2s - loss: 0.1342 - accuracy: 0.9413 - val_loss: 0.3409 - val_accuracy: 0.8919 - 2s/epoch - 8ms/step\n",
            "Epoch 7/30\n",
            "241/241 - 2s - loss: 0.1182 - accuracy: 0.9458 - val_loss: 0.4172 - val_accuracy: 0.8978 - 2s/epoch - 8ms/step\n",
            "Epoch 8/30\n",
            "241/241 - 2s - loss: 0.1158 - accuracy: 0.9482 - val_loss: 0.3907 - val_accuracy: 0.8868 - 2s/epoch - 8ms/step\n",
            "Epoch 9/30\n",
            "241/241 - 2s - loss: 0.1069 - accuracy: 0.9489 - val_loss: 0.4887 - val_accuracy: 0.8912 - 2s/epoch - 8ms/step\n",
            "Epoch 10/30\n",
            "241/241 - 2s - loss: 0.1127 - accuracy: 0.9494 - val_loss: 0.4599 - val_accuracy: 0.8831 - 2s/epoch - 8ms/step\n",
            "Epoch 11/30\n",
            "241/241 - 2s - loss: 0.1076 - accuracy: 0.9496 - val_loss: 0.5214 - val_accuracy: 0.8846 - 2s/epoch - 8ms/step\n",
            "Epoch 12/30\n",
            "241/241 - 2s - loss: 0.1023 - accuracy: 0.9522 - val_loss: 0.4462 - val_accuracy: 0.8919 - 2s/epoch - 8ms/step\n",
            "Epoch 13/30\n",
            "241/241 - 2s - loss: 0.0991 - accuracy: 0.9534 - val_loss: 0.4559 - val_accuracy: 0.8868 - 2s/epoch - 8ms/step\n",
            "Epoch 14/30\n",
            "241/241 - 2s - loss: 0.0958 - accuracy: 0.9541 - val_loss: 0.4766 - val_accuracy: 0.8794 - 2s/epoch - 8ms/step\n",
            "Epoch 15/30\n",
            "241/241 - 2s - loss: 0.1006 - accuracy: 0.9533 - val_loss: 0.4727 - val_accuracy: 0.8824 - 2s/epoch - 8ms/step\n",
            "Epoch 16/30\n",
            "241/241 - 2s - loss: 0.0922 - accuracy: 0.9551 - val_loss: 0.5288 - val_accuracy: 0.8801 - 2s/epoch - 8ms/step\n",
            "Epoch 17/30\n",
            "241/241 - 2s - loss: 0.0850 - accuracy: 0.9565 - val_loss: 0.5742 - val_accuracy: 0.8838 - 2s/epoch - 8ms/step\n",
            "Epoch 18/30\n",
            "241/241 - 2s - loss: 0.0844 - accuracy: 0.9587 - val_loss: 0.5448 - val_accuracy: 0.8831 - 2s/epoch - 8ms/step\n",
            "Epoch 19/30\n",
            "241/241 - 2s - loss: 0.0781 - accuracy: 0.9587 - val_loss: 0.5902 - val_accuracy: 0.8794 - 2s/epoch - 8ms/step\n",
            "Epoch 20/30\n",
            "241/241 - 2s - loss: 0.0761 - accuracy: 0.9608 - val_loss: 0.5931 - val_accuracy: 0.8750 - 2s/epoch - 8ms/step\n",
            "Epoch 21/30\n",
            "241/241 - 2s - loss: 0.0775 - accuracy: 0.9603 - val_loss: 0.5627 - val_accuracy: 0.8669 - 2s/epoch - 8ms/step\n",
            "Epoch 22/30\n",
            "241/241 - 3s - loss: 0.0723 - accuracy: 0.9635 - val_loss: 0.6172 - val_accuracy: 0.8779 - 3s/epoch - 12ms/step\n",
            "Epoch 23/30\n",
            "241/241 - 2s - loss: 0.0752 - accuracy: 0.9634 - val_loss: 0.6043 - val_accuracy: 0.8743 - 2s/epoch - 8ms/step\n",
            "Epoch 24/30\n",
            "241/241 - 2s - loss: 0.0751 - accuracy: 0.9644 - val_loss: 0.6286 - val_accuracy: 0.8772 - 2s/epoch - 8ms/step\n",
            "Epoch 25/30\n",
            "241/241 - 2s - loss: 0.0707 - accuracy: 0.9628 - val_loss: 0.6912 - val_accuracy: 0.8765 - 2s/epoch - 8ms/step\n",
            "Epoch 26/30\n",
            "241/241 - 2s - loss: 0.0726 - accuracy: 0.9630 - val_loss: 0.6686 - val_accuracy: 0.8699 - 2s/epoch - 8ms/step\n",
            "Epoch 27/30\n",
            "241/241 - 2s - loss: 0.0657 - accuracy: 0.9660 - val_loss: 0.7644 - val_accuracy: 0.8684 - 2s/epoch - 8ms/step\n",
            "Epoch 28/30\n",
            "241/241 - 2s - loss: 0.0630 - accuracy: 0.9673 - val_loss: 0.7169 - val_accuracy: 0.8750 - 2s/epoch - 8ms/step\n",
            "Epoch 29/30\n",
            "241/241 - 2s - loss: 0.0640 - accuracy: 0.9668 - val_loss: 0.7264 - val_accuracy: 0.8654 - 2s/epoch - 8ms/step\n",
            "Epoch 30/30\n",
            "241/241 - 2s - loss: 0.0653 - accuracy: 0.9663 - val_loss: 0.7320 - val_accuracy: 0.8669 - 2s/epoch - 8ms/step\n"
          ]
        }
      ]
    },
    {
      "cell_type": "code",
      "source": [
        "\n",
        "import matplotlib.pyplot as plt\n",
        "metrics='accuracy'\n",
        "plt.plot(history1.history[metrics])\n",
        "plt.plot(history1.history['val_'+ metrics])\n",
        "plt.xlabel('Epochs')\n",
        "plt.ylabel(metrics)\n",
        "plt.legend(['training', 'test'], loc='upper right')\n",
        "plt.show()"
      ],
      "metadata": {
        "colab": {
          "base_uri": "https://localhost:8080/",
          "height": 282
        },
        "id": "FrPYalcAA8O8",
        "outputId": "8c048f01-8bb6-4ea2-9955-080eb4c82cf5"
      },
      "execution_count": 22,
      "outputs": [
        {
          "output_type": "display_data",
          "data": {
            "text/plain": [
              "<Figure size 432x288 with 1 Axes>"
            ],
            "image/png": "[encoded data removed]"
          },
          "metadata": {
            "needs_background": "light"
          }
        }
      ]
    },
    {
      "cell_type": "code",
      "source": [
        "\n",
        "import seaborn as sns\n",
        "from sklearn.metrics import accuracy_score,confusion_matrix,classification_report\n",
        "\n",
        "test_x=np.asarray(X_test)\n",
        "test_x=test_x.reshape((test_x.shape[0],1,test_x.shape[1]))\n",
        "test_y = np.argmax(np.array(y_test),axis=1)\n",
        "y_pred = model.predict(test_x)\n",
        "test_pred=np.argmax(y_pred,axis=1)"
      ],
      "metadata": {
        "colab": {
          "base_uri": "https://localhost:8080/"
        },
        "id": "4cZiAtd8BHR6",
        "outputId": "e3a6c769-4553-4505-aff3-247f30ad334c"
      },
      "execution_count": 23,
      "outputs": [
        {
          "output_type": "stream",
          "name": "stdout",
          "text": [
            "32/32 [==============================] - 0s 3ms/step\n"
          ]
        }
      ]
    },
    {
      "cell_type": "code",
      "source": [
        "\n",
        "def plot_conf(ypred,y_test):\n",
        "    cf_matrix = confusion_matrix( ypred,y_test)\n",
        "    ax= plt.subplot()\n",
        "    sns.heatmap(cf_matrix,annot=True,ax=ax, cmap=\"BuPu\")\n",
        "    ax.set_xlabel('Predicted labels')\n",
        "    ax.set_ylabel('True labels')\n",
        "    ax.set_title('Confusion Matrix')\n",
        "    \n",
        "plot_conf(test_pred,test_y)  "
      ],
      "metadata": {
        "colab": {
          "base_uri": "https://localhost:8080/",
          "height": 295
        },
        "id": "brvJdSHlBQ57",
        "outputId": "07345c76-96b8-44f9-d336-8507a5e50f81"
      },
      "execution_count": 24,
      "outputs": [
        {
          "output_type": "display_data",
          "data": {
            "text/plain": [
              "<Figure size 432x288 with 2 Axes>"
            ],
            "image/png": "[encoded data removed]"
          },
          "metadata": {
            "needs_background": "light"
          }
        }
      ]
    },
    {
      "cell_type": "code",
      "source": [
        " print(classification_report(test_pred,test_y))"
      ],
      "metadata": {
        "colab": {
          "base_uri": "https://localhost:8080/"
        },
        "id": "fjz01D8QBeE1",
        "outputId": "2cb1b239-491c-4288-bfb1-7d48005d57ab"
      },
      "execution_count": 25,
      "outputs": [
        {
          "output_type": "stream",
          "name": "stdout",
          "text": [
            "              precision    recall  f1-score   support\n",
            "\n",
            "           0       0.86      0.87      0.86       492\n",
            "           1       0.87      0.86      0.87       516\n",
            "\n",
            "    accuracy                           0.87      1008\n",
            "   macro avg       0.86      0.87      0.87      1008\n",
            "weighted avg       0.87      0.87      0.87      1008\n",
            "\n"
          ]
        }
      ]
    }
  ]
}